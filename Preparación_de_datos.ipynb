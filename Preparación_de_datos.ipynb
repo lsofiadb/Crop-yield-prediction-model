{
  "nbformat": 4,
  "nbformat_minor": 0,
  "metadata": {
    "colab": {
      "provenance": [],
      "toc_visible": true,
      "include_colab_link": true
    },
    "kernelspec": {
      "name": "python3",
      "display_name": "Python 3"
    },
    "language_info": {
      "name": "python"
    }
  },
  "cells": [
    {
      "cell_type": "markdown",
      "metadata": {
        "id": "view-in-github",
        "colab_type": "text"
      },
      "source": [
        "<a href=\"https://colab.research.google.com/github/lsofiadb/Crop-yield-prediction-model/blob/main/Preparaci%C3%B3n_de_datos.ipynb\" target=\"_parent\"><img src=\"https://colab.research.google.com/assets/colab-badge.svg\" alt=\"Open In Colab\"/></a>"
      ]
    },
    {
      "cell_type": "markdown",
      "source": [
        "# **ETAPAS PREPARACION DE DATOS**"
      ],
      "metadata": {
        "id": "DvFE832hFrxh"
      }
    },
    {
      "cell_type": "markdown",
      "source": [
        "Primero revisar que los rendimientos estén bien calculado \n",
        "\n",
        "\n",
        "Revisar que los semestres A y B coincidan con los periodos"
      ],
      "metadata": {
        "id": "-sDIIYpSc9Jr"
      }
    },
    {
      "cell_type": "markdown",
      "source": [
        "Graficar columna de rendimiento\n"
      ],
      "metadata": {
        "id": "wEMy0IscfhlV"
      }
    },
    {
      "cell_type": "code",
      "source": [
        "import pandas as pd\n",
        "import matplotlib.pyplot as plt\n",
        "\n",
        "# Leer el archivo CSV\n",
        "df_original = pd.read_csv('./sample_data/dataset.csv')\n",
        "\n",
        "# Seleccionar la columna que se desea graficar\n",
        "columna = df_original['Rendimiento (t/ha)']\n",
        "\n",
        "# Graficar los datos\n",
        "plt.plot(columna)\n",
        "\n",
        "# Agregar etiquetas al eje x y al eje y\n",
        "plt.xlabel('Registro')\n",
        "plt.ylabel('Rendimiento')\n",
        "\n",
        "# Mostrar el gráfico\n",
        "plt.show()\n"
      ],
      "metadata": {
        "colab": {
          "base_uri": "https://localhost:8080/",
          "height": 449
        },
        "id": "-jyn-weXfj3A",
        "outputId": "76e1b0a8-0370-44fc-cc31-b2c5a8031354"
      },
      "execution_count": null,
      "outputs": [
        {
          "output_type": "display_data",
          "data": {
            "text/plain": [
              "<Figure size 640x480 with 1 Axes>"
            ],
            "image/png": "[encoded data removed]"
          },
          "metadata": {}
        }
      ]
    },
    {
      "cell_type": "code",
      "source": [
        "print(df_original.loc[5240])"
      ],
      "metadata": {
        "id": "ac6VU4u3GwBU",
        "colab": {
          "base_uri": "https://localhost:8080/"
        },
        "outputId": "529f7a92-d06f-4814-a448-4a44eff019e3"
      },
      "execution_count": null,
      "outputs": [
        {
          "output_type": "stream",
          "name": "stdout",
          "text": [
            "TIPO                   CULTIVOS PERMANENTES\n",
            "MUNICIPIO                            BOYACA\n",
            "CULTIVO                             DURAZNO\n",
            "PERIODO                                2013\n",
            "Area Sembrada (ha)                      3.0\n",
            "Area Cosechada (ha)                     0.0\n",
            "Produccion (t)                          0.0\n",
            "Rendimiento (t/ha)                      NaN\n",
            "Name: 5240, dtype: object\n"
          ]
        }
      ]
    },
    {
      "cell_type": "code",
      "source": [
        "print(df_original.head(20))"
      ],
      "metadata": {
        "colab": {
          "base_uri": "https://localhost:8080/"
        },
        "id": "sgsM_fZmk2-c",
        "outputId": "c7d8e1d9-2e6f-4302-b7cf-9baabca24a83"
      },
      "execution_count": null,
      "outputs": [
        {
          "output_type": "stream",
          "name": "stdout",
          "text": [
            "                                TIPO            MUNICIPIO   CULTIVO PERIODO  \\\n",
            "0               CULTIVOS PERMANENTES              RAQUIRA     AGRAZ    2015   \n",
            "1   CULTIVOS TRANSITORIOS SEMESTRE A             BUSBANZA   AHUYAMA   2018A   \n",
            "2               CULTIVOS PERMANENTES           BUENAVISTA  AGUACATE    2015   \n",
            "3               CULTIVOS PERMANENTES                COPER  AGUACATE    2015   \n",
            "4               CULTIVOS PERMANENTES                COPER  AGUACATE    2015   \n",
            "5               CULTIVOS PERMANENTES                COPER  AGUACATE    2015   \n",
            "6               CULTIVOS PERMANENTES           COVARACHIA  AGUACATE    2015   \n",
            "7               CULTIVOS PERMANENTES            EL ESPINO  AGUACATE    2015   \n",
            "8               CULTIVOS PERMANENTES             JENESANO  AGUACATE    2015   \n",
            "9               CULTIVOS PERMANENTES          LA VICTORIA  AGUACATE    2015   \n",
            "10              CULTIVOS PERMANENTES           MIRAFLORES  AGUACATE    2015   \n",
            "11              CULTIVOS PERMANENTES                 MUZO  AGUACATE    2015   \n",
            "12              CULTIVOS PERMANENTES              OTANCHE  AGUACATE    2015   \n",
            "13              CULTIVOS PERMANENTES            PACHAVITA  AGUACATE    2015   \n",
            "14              CULTIVOS PERMANENTES                 PAEZ  AGUACATE    2015   \n",
            "15              CULTIVOS PERMANENTES                PAUNA  AGUACATE    2015   \n",
            "16              CULTIVOS PERMANENTES        PUERTO BOYACA  AGUACATE    2015   \n",
            "17              CULTIVOS PERMANENTES              QUIPAMA  AGUACATE    2015   \n",
            "18              CULTIVOS PERMANENTES               RONDON  AGUACATE    2015   \n",
            "19              CULTIVOS PERMANENTES  SAN PABLO DE BORBUR  AGUACATE    2015   \n",
            "\n",
            "    Area Sembrada (ha)  Area Cosechada (ha)  Produccion (t)  \\\n",
            "0                170.0                170.0          1360.0   \n",
            "1                  0.5                  0.4             2.0   \n",
            "2                 40.0                 25.0            25.0   \n",
            "3                  4.0                  2.0            24.0   \n",
            "4                 20.0                 10.0            70.0   \n",
            "5                 17.0                 10.0           150.0   \n",
            "6                  8.0                  NaN             NaN   \n",
            "7                  5.0                  1.5            15.0   \n",
            "8                  7.0                  5.0            50.0   \n",
            "9                 14.0                  2.0            20.0   \n",
            "10                43.0                  3.0             6.0   \n",
            "11                24.0                 15.0            75.0   \n",
            "12                15.0                  8.0            80.0   \n",
            "13                 2.0                  2.0             2.0   \n",
            "14                 5.0                  5.0            35.0   \n",
            "15                70.0                 20.0            60.0   \n",
            "16                25.0                 22.0           132.0   \n",
            "17                40.0                 30.0            90.0   \n",
            "18                 2.0                  NaN             NaN   \n",
            "19                96.0                 40.0           160.0   \n",
            "\n",
            "    Rendimiento (t/ha)  \n",
            "0                  8.0  \n",
            "1                  5.0  \n",
            "2                  1.0  \n",
            "3                 12.0  \n",
            "4                  7.0  \n",
            "5                 15.0  \n",
            "6                  NaN  \n",
            "7                 10.0  \n",
            "8                 10.0  \n",
            "9                 10.0  \n",
            "10                 2.0  \n",
            "11                 5.0  \n",
            "12                10.0  \n",
            "13                 1.0  \n",
            "14                 7.0  \n",
            "15                 3.0  \n",
            "16                 6.0  \n",
            "17                 3.0  \n",
            "18                 NaN  \n",
            "19                 4.0  \n"
          ]
        }
      ]
    },
    {
      "cell_type": "markdown",
      "source": [
        "# 1.Deteccion de valores faltantes"
      ],
      "metadata": {
        "id": "IlMKXcerGFnD"
      }
    },
    {
      "cell_type": "markdown",
      "source": [
        "## Validación columna Rendimiento"
      ],
      "metadata": {
        "id": "DbjqmwV9hs7c"
      }
    },
    {
      "cell_type": "code",
      "source": [
        "import pandas as pd\n",
        "\n",
        "# Leer el archivo CSV\n",
        "df = pd.read_csv('./sample_data/dataset.csv')\n",
        "\n",
        "# Definir las columnas\n",
        "columna1 = df['Produccion (t)']\n",
        "columna2 = df['Area Cosechada (ha)']\n",
        "columna3 = df['Rendimiento (t/ha)']\n",
        "\n",
        "# Calcular la división de las dos primeras columnas\n",
        "division = columna1 / columna2\n",
        "\n",
        "# Verificar si la columna 3 es igual a la división calculada\n",
        "validacion = columna3 != division\n",
        "\n",
        "# Contar el número de filas en las que la validación es verdadera\n",
        "contador = validacion.sum()\n",
        "\n",
        "# Crear un nuevo dataframe con las filas donde se cumple la validación\n",
        "df_valido = df[validacion]\n",
        "\n",
        "# Imprimir el nuevo dataframe\n",
        "print(df_valido)\n",
        "\n",
        "# Imprimir el resultado\n",
        "print(f'Hay {contador} filas en las que la columna 3 es diferente a la división de las columnas 1 y 2.')\n"
      ],
      "metadata": {
        "colab": {
          "base_uri": "https://localhost:8080/"
        },
        "id": "F8Mw3LluhwZo",
        "outputId": "5d3eb061-3102-449c-b5db-e97b9b8cacb5"
      },
      "execution_count": null,
      "outputs": [
        {
          "output_type": "stream",
          "name": "stdout",
          "text": [
            "                       TIPO           MUNICIPIO     CULTIVO PERIODO  \\\n",
            "6      CULTIVOS PERMANENTES          COVARACHIA    AGUACATE    2015   \n",
            "18     CULTIVOS PERMANENTES              RONDON    AGUACATE    2015   \n",
            "37     CULTIVOS PERMANENTES               NOBSA       BREVO    2015   \n",
            "53     CULTIVOS PERMANENTES  SAN LUIS DE GACENO       CACAO    2015   \n",
            "64     CULTIVOS PERMANENTES               CHITA        CAFE    2015   \n",
            "...                     ...                 ...         ...     ...   \n",
            "23068            Permanente           Zetaquirá        Café    2021   \n",
            "23070            Permanente           Zetaquirá    Aguacate    2021   \n",
            "23072            Permanente           Zetaquirá    Pitahaya    2021   \n",
            "23074            Permanente           Zetaquirá  Granadilla    2021   \n",
            "23079           Transitorio           Zetaquirá      Frijol   2021B   \n",
            "\n",
            "       Area Sembrada (ha)  Area Cosechada (ha)  Produccion (t)  \\\n",
            "6                     8.0                  NaN             NaN   \n",
            "18                    2.0                  NaN             NaN   \n",
            "37                   57.0                28.06           84.18   \n",
            "53                  107.0                48.00           38.40   \n",
            "64                    6.0                 6.00            4.80   \n",
            "...                   ...                  ...             ...   \n",
            "23068              1124.0              1029.00         1070.00   \n",
            "23070                 1.0                 0.00            0.00   \n",
            "23072                26.0                 0.00            0.00   \n",
            "23074                 5.0                 5.00           68.00   \n",
            "23079               350.0               335.00          503.00   \n",
            "\n",
            "       Rendimiento (t/ha)  \n",
            "6                     NaN  \n",
            "18                    NaN  \n",
            "37                    3.0  \n",
            "53                    0.8  \n",
            "64                    0.8  \n",
            "...                   ...  \n",
            "23068                 1.0  \n",
            "23070                 0.0  \n",
            "23072                 0.0  \n",
            "23074                15.0  \n",
            "23079                 2.0  \n",
            "\n",
            "[4232 rows x 8 columns]\n",
            "Hay 4232 filas en las que la columna 3 es diferente a la división de las columnas 1 y 2.\n"
          ]
        }
      ]
    },
    {
      "cell_type": "code",
      "source": [
        "import matplotlib.pyplot as plt\n",
        "\n",
        "# Datos\n",
        "categorias = ['Correctos', 'Incorrectos']\n",
        "\n",
        "datosCorrectos = len(df_original)-contador\n",
        "\n",
        "datos = [datosCorrectos, contador]\n",
        "\n",
        "# Configurar la figura y los ejes\n",
        "fig, ax = plt.subplots()\n",
        "\n",
        "# Crear la gráfica de barras\n",
        "ax.bar(categorias, datos)\n",
        "\n",
        "# Configurar etiquetas y título\n",
        "ax.set_xlabel('Valores')\n",
        "ax.set_ylabel('Cantidad')\n",
        "ax.set_title('Comparación de Valores')\n",
        "\n",
        "# Mostrar la gráfica\n",
        "plt.show()"
      ],
      "metadata": {
        "colab": {
          "base_uri": "https://localhost:8080/",
          "height": 472
        },
        "id": "9-iFW4ZdMyoM",
        "outputId": "3865660f-8061-42f8-ac8b-3c1cf2eeaa88"
      },
      "execution_count": null,
      "outputs": [
        {
          "output_type": "display_data",
          "data": {
            "text/plain": [
              "<Figure size 640x480 with 1 Axes>"
            ],
            "image/png": "[encoded data removed]"
          },
          "metadata": {}
        }
      ]
    },
    {
      "cell_type": "code",
      "execution_count": null,
      "metadata": {
        "colab": {
          "base_uri": "https://localhost:8080/"
        },
        "id": "ic36ku0y_agU",
        "outputId": "5cab2e3e-67ed-4a7f-cb9b-2170ac30b246"
      },
      "outputs": [
        {
          "output_type": "stream",
          "name": "stdout",
          "text": [
            "Valores faltantes:\n",
            " TIPO                     0\n",
            "MUNICIPIO                0\n",
            "CULTIVO                  0\n",
            "PERIODO                  0\n",
            "Area Sembrada (ha)       0\n",
            "Area Cosechada (ha)    206\n",
            "Produccion (t)         219\n",
            "Rendimiento (t/ha)     231\n",
            "dtype: int64\n",
            "aaaaaaa Empty DataFrame\n",
            "Columns: [TIPO, MUNICIPIO, CULTIVO, PERIODO, Area Sembrada (ha), Area Cosechada (ha), Produccion (t), Rendimiento (t/ha)]\n",
            "Index: []\n"
          ]
        }
      ],
      "source": [
        "import pandas as pd\n",
        "import numpy as np\n",
        "from sklearn.feature_selection import SelectKBest, f_classif\n",
        "\n",
        "data = pd.read_csv('./sample_data/dataset.csv')\n",
        "\n",
        "# Verificar si hay valores faltantes\n",
        "print(\"Valores faltantes:\\n\", data.isnull().sum())\n",
        "\n",
        "# Eliminar los registros con valores faltantes en otras columnas\n",
        "data.dropna(subset=data.columns.difference(['Area Cosechada (ha)']), inplace=True)\n",
        "data.dropna(subset=data.columns.difference(['Produccion (t)']), inplace=True)\n",
        "\n",
        "# Encontrar los valores faltantes en una columna específica\n",
        "missing_values = data['Rendimiento (t/ha)'].isnull()\n",
        "\n",
        "# Mostrar los registros con valores faltantes en la columna específica\n",
        "print(\"aaaaaaa\",data[missing_values])\n",
        "\n"
      ]
    },
    {
      "cell_type": "code",
      "source": [
        "import matplotlib.pyplot as plt\n",
        "\n",
        "# Datos\n",
        "categorias = ['Area Cosechada (ha)', 'Produccion (t)','Rendimiento (t/ha)']\n",
        "\n",
        "\n",
        "datos = [206,219,231]\n",
        "\n",
        "# Configurar la figura y los ejes\n",
        "fig, ax = plt.subplots()\n",
        "\n",
        "# Crear la gráfica de barras\n",
        "ax.bar(categorias, datos)\n",
        "\n",
        "# Configurar etiquetas y título\n",
        "ax.set_xlabel('Atributos')\n",
        "ax.set_ylabel('Cantidad')\n",
        "ax.set_title('Datos faltantes por atributo')\n",
        "\n",
        "# Mostrar la gráfica\n",
        "plt.show()"
      ],
      "metadata": {
        "colab": {
          "base_uri": "https://localhost:8080/",
          "height": 472
        },
        "id": "8tM8gYFtRSjx",
        "outputId": "fd04035e-080b-47d8-8706-137f37080f8a"
      },
      "execution_count": null,
      "outputs": [
        {
          "output_type": "display_data",
          "data": {
            "text/plain": [
              "<Figure size 640x480 with 1 Axes>"
            ],
            "image/png": "[encoded data removed]"
          },
          "metadata": {}
        }
      ]
    },
    {
      "cell_type": "markdown",
      "source": [
        "## Encontrar registros con un solo valor nulo"
      ],
      "metadata": {
        "id": "ItRz5gI7ya0z"
      }
    },
    {
      "cell_type": "code",
      "source": [
        "import pandas as pd\n",
        "\n",
        "# Cargar el dataset desde el archivo CSV\n",
        "dataFrame_Boyaca = pd.read_csv('./sample_data/dataset.csv')\n",
        "\n",
        "#Seleccionar columnas específicas para el analisis\n",
        "selected_cols = dataFrame_Boyaca[['Area Cosechada (ha)', 'Produccion (t)','Rendimiento (t/ha)']]\n",
        "\n",
        "#Crear dataframe a partir de los nulos y no nulos\n",
        "null_mask = selected_cols.isnull()\n",
        "\n",
        "#Contar número de valores nulos\n",
        "null_counts = null_mask.sum()\n",
        "\n",
        "#Se crea una serie de los registros que tengan un solo valor nulo\n",
        "any_null = null_mask.any(axis=1)\n",
        "\n",
        "#Se crea un dataframe que filtra los registros que tienen un solo valor nulo\n",
        "one_null = selected_cols[any_null & (null_mask.sum(axis=1) == 1)]\n",
        "\n",
        "more_than_one_null = selected_cols[any_null & (null_mask.sum(axis=1) >1)]\n",
        "\n",
        "#Se obtiene el dataframe con un solo valor nulo\n",
        "df_un_nulo = one_null.copy()\n",
        "\n",
        "df_valores_nulos = more_than_one_null.copy()\n",
        "\n",
        "#Mostrar en pantalla\n",
        "print(df_un_nulo)\n",
        "\n",
        "print(df_valores_nulos)\n",
        "\n"
      ],
      "metadata": {
        "id": "hAaEG-3fyi3a",
        "colab": {
          "base_uri": "https://localhost:8080/"
        },
        "outputId": "e898e693-d4e5-427a-a85f-8aaf460ab266"
      },
      "execution_count": null,
      "outputs": [
        {
          "output_type": "stream",
          "name": "stdout",
          "text": [
            "       Area Cosechada (ha)  Produccion (t)  Rendimiento (t/ha)\n",
            "4780                   1.0            11.5                 NaN\n",
            "5240                   0.0             0.0                 NaN\n",
            "6867                   0.0             0.0                 NaN\n",
            "6982                   0.0             0.0                 NaN\n",
            "7784                   0.0             0.0                 NaN\n",
            "8050                   0.0             0.0                 NaN\n",
            "8359                   0.0             0.0                 NaN\n",
            "8944                   0.0             0.0                 NaN\n",
            "9262                   0.0             0.0                 NaN\n",
            "10423                150.0             NaN               112.0\n",
            "10669                 23.0             NaN                 0.0\n",
            "11093                  2.0             7.0                 NaN\n",
            "11847                  0.0             0.0                 NaN\n",
            "14265                  0.0             0.0                 NaN\n",
            "       Area Cosechada (ha)  Produccion (t)  Rendimiento (t/ha)\n",
            "6                      NaN             NaN                 NaN\n",
            "18                     NaN             NaN                 NaN\n",
            "178                    NaN             NaN                 NaN\n",
            "183                    NaN             NaN                 NaN\n",
            "197                    NaN             NaN                 NaN\n",
            "...                    ...             ...                 ...\n",
            "14119                  NaN             NaN                 NaN\n",
            "14150                  NaN             NaN                 NaN\n",
            "14189                  NaN             NaN                 NaN\n",
            "14366                  NaN             NaN                 NaN\n",
            "14382                  NaN             NaN                 NaN\n",
            "\n",
            "[219 rows x 3 columns]\n"
          ]
        }
      ]
    },
    {
      "cell_type": "markdown",
      "source": [
        "## Eliminar registros con más de un valor nulo"
      ],
      "metadata": {
        "id": "PWxUWlpp7Fgw"
      }
    },
    {
      "cell_type": "code",
      "source": [
        "# Obtener los índices que deben eliminarse\n",
        "indices_a_eliminar = df_valores_nulos.index\n",
        "\n",
        "# Eliminar los registros de df1 basándose en los índices\n",
        "dataFrame_Boyaca = dataFrame_Boyaca.drop(indices_a_eliminar)\n"
      ],
      "metadata": {
        "id": "xk1CBCWx7LAc"
      },
      "execution_count": null,
      "outputs": []
    },
    {
      "cell_type": "code",
      "source": [
        "#Comprobar que el registro se elimmino\n",
        "print(\"\\n ----------------------\")\n",
        "\n",
        "print(dataFrame_Boyaca.loc[7])"
      ],
      "metadata": {
        "colab": {
          "base_uri": "https://localhost:8080/"
        },
        "id": "j4Ezmwd18b5T",
        "outputId": "2a1e96be-2e55-4f45-cb56-e350159c7f8a"
      },
      "execution_count": null,
      "outputs": [
        {
          "output_type": "stream",
          "name": "stdout",
          "text": [
            "\n",
            " ----------------------\n",
            "TIPO                   CULTIVOS PERMANENTES\n",
            "MUNICIPIO                         EL ESPINO\n",
            "CULTIVO                            AGUACATE\n",
            "PERIODO                                2015\n",
            "Area Sembrada (ha)                      5.0\n",
            "Area Cosechada (ha)                     1.5\n",
            "Produccion (t)                         15.0\n",
            "Rendimiento (t/ha)                     10.0\n",
            "Name: 7, dtype: object\n"
          ]
        }
      ]
    },
    {
      "cell_type": "markdown",
      "source": [
        "## Eliminar registros que tengan una columna con valor nulo y alguna de las dos columnas con valor 0 \n"
      ],
      "metadata": {
        "id": "gs8WeryYEcOi"
      }
    },
    {
      "cell_type": "code",
      "source": [
        "df_un_nulo\n",
        "\n",
        "#Filtrar los registros que cumplan la condición\n",
        "df_filtrado = df_un_nulo.loc[(df_un_nulo['Area Cosechada (ha)']==0) | (df_un_nulo['Produccion (t)']==0) | (df_un_nulo['Rendimiento (t/ha)']==0)]\n",
        "\n",
        "#Mostrar en pantalla\n",
        "print(df_filtrado)"
      ],
      "metadata": {
        "colab": {
          "base_uri": "https://localhost:8080/"
        },
        "id": "lO5AI9ihEjgZ",
        "outputId": "df5ebb92-ff9f-41b5-e3b3-8ace35661a75"
      },
      "execution_count": null,
      "outputs": [
        {
          "output_type": "stream",
          "name": "stdout",
          "text": [
            "       Area Cosechada (ha)  Produccion (t)  Rendimiento (t/ha)\n",
            "5240                   0.0             0.0                 NaN\n",
            "6867                   0.0             0.0                 NaN\n",
            "6982                   0.0             0.0                 NaN\n",
            "7784                   0.0             0.0                 NaN\n",
            "8050                   0.0             0.0                 NaN\n",
            "8359                   0.0             0.0                 NaN\n",
            "8944                   0.0             0.0                 NaN\n",
            "9262                   0.0             0.0                 NaN\n",
            "10669                 23.0             NaN                 0.0\n",
            "11847                  0.0             0.0                 NaN\n",
            "14265                  0.0             0.0                 NaN\n"
          ]
        }
      ]
    },
    {
      "cell_type": "code",
      "source": [
        "# Obtener los índices que deben eliminarse\n",
        "indices_a_eliminar = df_filtrado.index\n",
        "\n",
        "# Eliminar los registros de df1 basándose en los índices\n",
        "dataFrame_Boyaca = dataFrame_Boyaca.drop(indices_a_eliminar)"
      ],
      "metadata": {
        "id": "RmazDL-QJkKW"
      },
      "execution_count": null,
      "outputs": []
    },
    {
      "cell_type": "markdown",
      "source": [
        "Con lo anterior se eliminan los registros que no aportan información"
      ],
      "metadata": {
        "id": "Yj8opyf2G4_w"
      }
    },
    {
      "cell_type": "markdown",
      "source": [
        "Comprobación de la eliminación"
      ],
      "metadata": {
        "id": "JtFx9bGwHSHF"
      }
    },
    {
      "cell_type": "code",
      "source": [
        "#Comprobar que el registro se elimmino\n",
        "print(\"\\n ----------------------\")\n",
        "\n",
        "print(dataFrame_Boyaca.loc[5241])"
      ],
      "metadata": {
        "colab": {
          "base_uri": "https://localhost:8080/"
        },
        "id": "fB_GvA31Higw",
        "outputId": "f0f66ec1-80ef-41e1-a3bc-7ef7b38bbfa4"
      },
      "execution_count": null,
      "outputs": [
        {
          "output_type": "stream",
          "name": "stdout",
          "text": [
            "\n",
            " ----------------------\n",
            "TIPO                   CULTIVOS TRANSITORIOS SEMESTRE B\n",
            "MUNICIPIO                                          PAYA\n",
            "CULTIVO                                          ARVEJA\n",
            "PERIODO                                           2014B\n",
            "Area Sembrada (ha)                                  4.0\n",
            "Area Cosechada (ha)                                 3.0\n",
            "Produccion (t)                                      4.2\n",
            "Rendimiento (t/ha)                                  1.4\n",
            "Name: 5241, dtype: object\n"
          ]
        }
      ]
    },
    {
      "cell_type": "markdown",
      "source": [
        "## Guardar registros a estimar (Valor faltante)"
      ],
      "metadata": {
        "id": "jrHjJrVLI89Y"
      }
    },
    {
      "cell_type": "code",
      "source": [
        "# Obtener los índices que deben eliminarse\n",
        "indices_a_eliminar = df_filtrado.index\n",
        "\n",
        "# Eliminar los registros de df1 basándose en los índices\n",
        "df_valores_faltantes = df_un_nulo.drop(indices_a_eliminar)"
      ],
      "metadata": {
        "id": "z1XHemzwG38q"
      },
      "execution_count": null,
      "outputs": []
    },
    {
      "cell_type": "code",
      "source": [
        "print(df_valores_faltantes)"
      ],
      "metadata": {
        "colab": {
          "base_uri": "https://localhost:8080/"
        },
        "id": "I5Ft7QEkKFfC",
        "outputId": "d3a6c339-8697-4724-b11c-b5c29aac9efd"
      },
      "execution_count": null,
      "outputs": [
        {
          "output_type": "stream",
          "name": "stdout",
          "text": [
            "       Area Cosechada (ha)  Produccion (t)  Rendimiento (t/ha)\n",
            "4780                   1.0            11.5                 NaN\n",
            "10423                150.0             NaN               112.0\n",
            "11093                  2.0             7.0                 NaN\n"
          ]
        }
      ]
    },
    {
      "cell_type": "markdown",
      "source": [
        "## Reparar datos"
      ],
      "metadata": {
        "id": "UddHAjQXKg-i"
      }
    },
    {
      "cell_type": "code",
      "source": [
        "# Realizar la reparación de valores faltantes\n",
        "df_valores_corregidos= df_valores_faltantes.copy()\n",
        "\n",
        "valor_faltante = 0 \n",
        "\n",
        "\n",
        "for index, row in df_valores_corregidos.iterrows():\n",
        "  if pd.isnull(df_valores_corregidos.loc[index,'Area Cosechada (ha)']) :\n",
        "    valor_faltante = row['Rendimiento (t/ha)']*row['Produccion (t)']\n",
        "    df_valores_corregidos.loc[index, 'Area Cosechada (ha)'] = valor_faltante\n",
        "\n",
        "  elif pd.isnull(df_valores_corregidos.loc[index,'Produccion (t)']):\n",
        "    valor_faltante = row['Rendimiento (t/ha)']*row['Area Cosechada (ha)']\n",
        "    df_valores_corregidos.loc[index, 'Produccion (t)'] = valor_faltante\n",
        "\n",
        "  else:\n",
        "    valor_faltante = row['Produccion (t)']/row['Area Cosechada (ha)']\n",
        "    df_valores_corregidos.loc[index, 'Rendimiento (t/ha)'] = valor_faltante\n",
        "\n",
        "  print(\"\\n\")\n",
        "  valor_faltante = 0 \n",
        "\n",
        "print(df_valores_corregidos)\n",
        "\n"
      ],
      "metadata": {
        "colab": {
          "base_uri": "https://localhost:8080/"
        },
        "id": "lM83Vi54Kmey",
        "outputId": "8f180872-4f8a-4c9e-a566-c2c530a754fe"
      },
      "execution_count": null,
      "outputs": [
        {
          "output_type": "stream",
          "name": "stdout",
          "text": [
            "\n",
            "\n",
            "\n",
            "\n",
            "\n",
            "\n",
            "       Area Cosechada (ha)  Produccion (t)  Rendimiento (t/ha)\n",
            "4780                   1.0            11.5                11.5\n",
            "10423                150.0         16800.0               112.0\n",
            "11093                  2.0             7.0                 3.5\n"
          ]
        }
      ]
    },
    {
      "cell_type": "markdown",
      "source": [
        "### Reemplazar valores reparados"
      ],
      "metadata": {
        "id": "AMOreYwHUcxP"
      }
    },
    {
      "cell_type": "code",
      "source": [
        "dataFrame_Boyaca.update(df_valores_corregidos)\n",
        "\n",
        "# Verificar si hay valores nulos en el dataframe\n",
        "hay_nulos = dataFrame_Boyaca.isnull().any()\n",
        "\n",
        "# Mostrar los resultados\n",
        "print(hay_nulos)"
      ],
      "metadata": {
        "colab": {
          "base_uri": "https://localhost:8080/"
        },
        "id": "_NO1WzGtUhSV",
        "outputId": "e074c1dd-2a1d-4c98-9689-a2c80996257e"
      },
      "execution_count": null,
      "outputs": [
        {
          "output_type": "stream",
          "name": "stdout",
          "text": [
            "TIPO                   False\n",
            "MUNICIPIO              False\n",
            "CULTIVO                False\n",
            "PERIODO                False\n",
            "Area Sembrada (ha)     False\n",
            "Area Cosechada (ha)    False\n",
            "Produccion (t)         False\n",
            "Rendimiento (t/ha)     False\n",
            "dtype: bool\n"
          ]
        }
      ]
    },
    {
      "cell_type": "markdown",
      "source": [
        "## Comprobación valores NAN\n"
      ],
      "metadata": {
        "id": "ua874tqHHVZF"
      }
    },
    {
      "cell_type": "code",
      "source": [
        "hay_nulos = dataFrame_Boyaca.isna().any()\n",
        "recuento_nulos = dataFrame_Boyaca.isna().sum()\n",
        "print(recuento_nulos)"
      ],
      "metadata": {
        "colab": {
          "base_uri": "https://localhost:8080/"
        },
        "id": "BzBRK1sBHbdc",
        "outputId": "8f90e91c-1306-4773-f35c-410dea81a508"
      },
      "execution_count": null,
      "outputs": [
        {
          "output_type": "stream",
          "name": "stdout",
          "text": [
            "TIPO                   0\n",
            "MUNICIPIO              0\n",
            "CULTIVO                0\n",
            "PERIODO                0\n",
            "Area Sembrada (ha)     0\n",
            "Area Cosechada (ha)    0\n",
            "Produccion (t)         0\n",
            "Rendimiento (t/ha)     0\n",
            "dtype: int64\n"
          ]
        }
      ]
    },
    {
      "cell_type": "code",
      "source": [
        "print(dataFrame_Boyaca.loc[11093])"
      ],
      "metadata": {
        "colab": {
          "base_uri": "https://localhost:8080/"
        },
        "id": "kgnLo9_tVlNL",
        "outputId": "6f1cee39-c3d0-428e-ce56-9b00d3942f51"
      },
      "execution_count": null,
      "outputs": [
        {
          "output_type": "stream",
          "name": "stdout",
          "text": [
            "TIPO                   CULTIVOS PERMANENTES\n",
            "MUNICIPIO                          PAJARITO\n",
            "CULTIVO                             GUANDUL\n",
            "PERIODO                                2016\n",
            "Area Sembrada (ha)                      5.0\n",
            "Area Cosechada (ha)                     2.0\n",
            "Produccion (t)                          7.0\n",
            "Rendimiento (t/ha)                      3.5\n",
            "Name: 11093, dtype: object\n"
          ]
        }
      ]
    },
    {
      "cell_type": "markdown",
      "source": [
        "## Conteo total de registros"
      ],
      "metadata": {
        "id": "NTmmgg2xVRQO"
      }
    },
    {
      "cell_type": "code",
      "source": [
        "print(len(dataFrame_Boyaca))\n",
        "\n",
        "total_count=len(df_original)-len(dataFrame_Boyaca)\n",
        "\n",
        "print(\"El número de registros que se han borrado son: \", total_count)"
      ],
      "metadata": {
        "colab": {
          "base_uri": "https://localhost:8080/"
        },
        "id": "BcEI7sWLIN0q",
        "outputId": "89de18c9-ec15-4388-b1cf-b33d7661c655"
      },
      "execution_count": null,
      "outputs": [
        {
          "output_type": "stream",
          "name": "stdout",
          "text": [
            "22850\n",
            "El número de registros que se han borrado son:  230\n"
          ]
        }
      ]
    },
    {
      "cell_type": "markdown",
      "source": [
        "## Graficar luego de borrar y agregar valores faltantes"
      ],
      "metadata": {
        "id": "bDcYNVfKJMW7"
      }
    },
    {
      "cell_type": "code",
      "source": [
        "\n",
        "# Seleccionar la columna que se desea graficar\n",
        "columna = dataFrame_Boyaca['Rendimiento (t/ha)']\n",
        "\n",
        "# Graficar los datos\n",
        "plt.plot(columna)\n",
        "\n",
        "# Agregar etiquetas al eje x y al eje y\n",
        "plt.xlabel('Registro')\n",
        "plt.ylabel('Rendimiento')\n",
        "\n",
        "# Mostrar el gráfico\n",
        "plt.show()"
      ],
      "metadata": {
        "colab": {
          "base_uri": "https://localhost:8080/",
          "height": 449
        },
        "id": "_gI7PXmxJRd4",
        "outputId": "79f962d1-5eaa-4517-d11c-97dd9b72a539"
      },
      "execution_count": null,
      "outputs": [
        {
          "output_type": "display_data",
          "data": {
            "text/plain": [
              "<Figure size 640x480 with 1 Axes>"
            ],
            "image/png": "[encoded data removed]"
          },
          "metadata": {}
        }
      ]
    },
    {
      "cell_type": "markdown",
      "source": [
        "# 2.Deteccion de datos anomalos "
      ],
      "metadata": {
        "id": "4lvhhT83F667"
      }
    },
    {
      "cell_type": "markdown",
      "source": [
        "## Determinación del umbral para Z-Score"
      ],
      "metadata": {
        "id": "axYDZTJaa2TH"
      }
    },
    {
      "cell_type": "code",
      "source": [
        "import pandas as pd\n",
        "import numpy as np\n",
        "\n",
        "\n",
        "# calcular la media y la desviación estándar de la columna 'columna_de_datos'\n",
        "media = dataFrame_Boyaca['Rendimiento (t/ha)'].mean()\n",
        "print(\"La media es: \", media)\n",
        "\n",
        "desviacion_estandar = dataFrame_Boyaca['Rendimiento (t/ha)'].std()\n",
        "print(\"La desviación estandar: \",desviacion_estandar )\n",
        "\n",
        "# definir el umbral como una cierta cantidad de desviaciones estándar por encima de la media\n",
        "umbral = media + (3 * desviacion_estandar)\n",
        "\n",
        "# imprimir el umbral\n",
        "print('El umbral de anormalidad es:', umbral)\n"
      ],
      "metadata": {
        "colab": {
          "base_uri": "https://localhost:8080/"
        },
        "id": "DuC1nzioa8gI",
        "outputId": "7399c1db-6b87-4360-c6f7-21069a00ec96"
      },
      "execution_count": null,
      "outputs": [
        {
          "output_type": "stream",
          "name": "stdout",
          "text": [
            "La media es:  10.167712691466084\n",
            "La desviación estandar:  15.992222694772357\n",
            "El umbral de anormalidad es: 58.144380775783155\n"
          ]
        }
      ]
    },
    {
      "cell_type": "markdown",
      "source": [
        "Implementación de Z-Score"
      ],
      "metadata": {
        "id": "bXGGLYsRbfMV"
      }
    },
    {
      "cell_type": "code",
      "source": [
        "import pandas as pd\n",
        "import statistics\n",
        "\n",
        "# Seleccionar la columna de interés\n",
        "col = 'Rendimiento (t/ha)'\n",
        "data = dataFrame_Boyaca[col]\n",
        "\n",
        "# Calcular el puntaje Z para cada punto de datos\n",
        "mean = data.mean()\n",
        "std = data.std()\n",
        "threshold = umbral # Umbral de tolerancia\n",
        "z_scores = [(x - mean) / std for x in data]\n",
        "\n",
        "# Crear un dataframe para almacenar los registros anómalos\n",
        "anomalies_df = pd.DataFrame(columns=dataFrame_Boyaca.columns)\n",
        "\n",
        "print(\"Esta es la media de los scores \", statistics.mean(z_scores))\n",
        "\n",
        "# Iterar a través de cada registro y comprobar si contiene valores anómalos\n",
        "for i, score in enumerate(z_scores):\n",
        "    if abs(score) > threshold:\n",
        "        anomalies_df = anomalies_df.append(dataFrame_Boyaca.iloc[i])\n",
        "\n",
        "# Imprimir los registros anómalos encontrados\n",
        "print(\"Registros anómalos encontrados:\")\n",
        "print(anomalies_df)\n",
        "\n",
        "\n"
      ],
      "metadata": {
        "colab": {
          "base_uri": "https://localhost:8080/"
        },
        "id": "rjPWDlh9be0z",
        "outputId": "3a1fde97-bbbb-4e7b-f74b-111c58c45803"
      },
      "execution_count": null,
      "outputs": [
        {
          "output_type": "stream",
          "name": "stdout",
          "text": [
            "Esta es la media de los scores  -6.092113502213675e-17\n",
            "Registros anómalos encontrados:\n",
            "Empty DataFrame\n",
            "Columns: [TIPO, MUNICIPIO, CULTIVO, PERIODO, Area Sembrada (ha), Area Cosechada (ha), Produccion (t), Rendimiento (t/ha)]\n",
            "Index: []\n"
          ]
        }
      ]
    },
    {
      "cell_type": "markdown",
      "source": [
        "Atributo área sembrada"
      ],
      "metadata": {
        "id": "4ootrWWEAMLy"
      }
    },
    {
      "cell_type": "code",
      "source": [
        "# calcular la media y la desviación estándar de la columna 'columna_de_datos'\n",
        "media = dataFrame_Boyaca['Area Sembrada (ha)'].mean()\n",
        "print(\"La media es: \", media)\n",
        "\n",
        "desviacion_estandar = dataFrame_Boyaca['Area Sembrada (ha)'].std()\n",
        "print(\"La desviación estandar: \",desviacion_estandar )\n",
        "\n",
        "# definir el umbral como una cierta cantidad de desviaciones estándar por encima de la media\n",
        "umbral = media + (3 * desviacion_estandar)\n",
        "\n",
        "# imprimir el umbral\n",
        "print('El umbral de anormalidad es:', umbral)\n",
        "\n",
        "# Seleccionar la columna de interés\n",
        "col = 'Area Sembrada (ha)'\n",
        "data = dataFrame_Boyaca[col]\n",
        "\n",
        "# Calcular el puntaje Z para cada punto de datos\n",
        "mean = data.mean()\n",
        "std = data.std()\n",
        "threshold = umbral # Umbral de tolerancia\n",
        "z_scores = [(x - mean) / std for x in data]\n",
        "\n",
        "# Crear un dataframe para almacenar los registros anómalos\n",
        "anomalies_df = pd.DataFrame(columns=dataFrame_Boyaca.columns)\n",
        "\n",
        "print(\"Esta es la media de los scores \", statistics.mean(z_scores))\n",
        "\n",
        "# Iterar a través de cada registro y comprobar si contiene valores anómalos\n",
        "for i, score in enumerate(z_scores):\n",
        "    if abs(score) > threshold:\n",
        "        anomalies_df = anomalies_df.append(dataFrame_Boyaca.iloc[i])\n",
        "\n",
        "# Imprimir los registros anómalos encontrados\n",
        "print(\"Registros anómalos encontrados:\")\n",
        "print(anomalies_df)\n",
        "\n"
      ],
      "metadata": {
        "colab": {
          "base_uri": "https://localhost:8080/"
        },
        "id": "4uYGTp6rAO8X",
        "outputId": "40ca2fed-bf3a-4698-e5ca-153ba2232277"
      },
      "execution_count": null,
      "outputs": [
        {
          "output_type": "stream",
          "name": "stdout",
          "text": [
            "La media es:  77.71413085339167\n",
            "La desviación estandar:  285.9560099991544\n",
            "El umbral de anormalidad es: 935.5821608508548\n",
            "Esta es la media de los scores  6.746537933525925e-17\n",
            "Registros anómalos encontrados:\n",
            "Empty DataFrame\n",
            "Columns: [TIPO, MUNICIPIO, CULTIVO, PERIODO, Area Sembrada (ha), Area Cosechada (ha), Produccion (t), Rendimiento (t/ha)]\n",
            "Index: []\n"
          ]
        }
      ]
    },
    {
      "cell_type": "markdown",
      "source": [
        "# 3.Seleccion de atributos"
      ],
      "metadata": {
        "id": "a7D77aUXGP-E"
      }
    },
    {
      "cell_type": "markdown",
      "source": [
        "## Algoritmo Random Forest "
      ],
      "metadata": {
        "id": "caI2-JXoKHU2"
      }
    },
    {
      "cell_type": "code",
      "source": [
        "import pandas as pd\n",
        "from sklearn.feature_selection import mutual_info_classif\n",
        "from sklearn.preprocessing import StandardScaler\n",
        "from sklearn.preprocessing import LabelEncoder\n",
        "from sklearn.feature_selection import SelectKBest\n",
        "\n",
        "# Cargar el conjunto de datos\n",
        "data_atributte_selection = dataFrame_Boyaca.copy()\n",
        "\n",
        "# Definir la columna target\n",
        "target_column = \"Rendimiento (t/ha)\" \n",
        "target = data_atributte_selection[target_column].astype('int64')\n",
        "\n",
        "# Separar los atributos numéricos y categóricos\n",
        "numeric_features = data_atributte_selection.select_dtypes(include=['float64', 'int64']).columns\n",
        "categorical_features = data_atributte_selection.select_dtypes(include=['object']).columns\n",
        "\n",
        "# Codificar los atributos categóricos\n",
        "label_encoder = LabelEncoder()\n",
        "for col in categorical_features:\n",
        "    data_atributte_selection[col] = label_encoder.fit_transform(data_atributte_selection[col].astype(str))\n",
        "\n",
        "# Escalar los atributos numéricos\n",
        "scaler = StandardScaler()\n",
        "data_atributte_selection[numeric_features] = scaler.fit_transform(data_atributte_selection[numeric_features])\n",
        "\n",
        "# Calcular la importancia de los atributos utilizando la información mutua\n",
        "selector = SelectKBest(mutual_info_classif, k=8)\n",
        "selector.fit(data_atributte_selection, target)\n",
        "\n",
        "# Obtener los índices de los atributos seleccionados\n",
        "selected_indices = selector.get_support(indices=True)\n",
        "\n",
        "# Obtener los nombres de los atributos seleccionados\n",
        "selected_features = data_atributte_selection.columns[selected_indices]\n",
        "\n",
        "# Crear un nuevo conjunto de datos con los atributos seleccionados\n",
        "data_selected = data_atributte_selection[selected_features]\n",
        "# print(data_selected)\n",
        "\n",
        "# Calcular la importancia de los atributos utilizando la información mutua\n",
        "scores = mutual_info_classif(data_atributte_selection, target)\n",
        "feature_scores = list(zip(data_atributte_selection.columns, scores))\n",
        "\n",
        "# Ordenar los atributos por relevancia de manera descendente\n",
        "feature_scores_sorted = sorted(feature_scores, key=lambda x: x[1], reverse=True)\n",
        "\n",
        "# Obtener los nombres de los atributos seleccionados\n",
        "selected_features = [x[0] for x in feature_scores_sorted[:8]]\n",
        "\n",
        "# Crear un nuevo conjunto de datos con los atributos seleccionados\n",
        "data_selected = data_atributte_selection[selected_features]\n",
        "\n",
        "# Imprimir los nombres de los atributos seleccionados en orden descendente junto con su relevancia\n",
        "for feature, score in feature_scores_sorted:\n",
        "    if feature in selected_features:\n",
        "        print(feature, score)\n",
        "\n",
        "print(selected_features)"
      ],
      "metadata": {
        "colab": {
          "base_uri": "https://localhost:8080/"
        },
        "id": "S489AMPuKSmP",
        "outputId": "0393a860-af65-4c6c-aa49-d7fc03d0ffaf"
      },
      "execution_count": null,
      "outputs": [
        {
          "output_type": "stream",
          "name": "stdout",
          "text": [
            "Rendimiento (t/ha) 3.050867474154158\n",
            "Produccion (t) 0.8719476063916893\n",
            "CULTIVO 0.8315070215980729\n",
            "MUNICIPIO 0.4010069606772375\n",
            "Area Sembrada (ha) 0.14818147139804783\n",
            "Area Cosechada (ha) 0.14652754601029772\n",
            "PERIODO 0.10119747973547888\n",
            "TIPO 0.09308816471171566\n",
            "['Rendimiento (t/ha)', 'Produccion (t)', 'CULTIVO', 'MUNICIPIO', 'Area Sembrada (ha)', 'Area Cosechada (ha)', 'PERIODO', 'TIPO']\n"
          ]
        }
      ]
    },
    {
      "cell_type": "markdown",
      "source": [
        "# Elimando la columna del atributo menos relevante"
      ],
      "metadata": {
        "id": "N9HstC2mhRou"
      }
    },
    {
      "cell_type": "code",
      "source": [
        "dataFrame_Boyaca.drop('TIPO', axis=1, inplace=True)\n",
        "print(dataFrame_Boyaca)"
      ],
      "metadata": {
        "colab": {
          "base_uri": "https://localhost:8080/"
        },
        "id": "75XaHDqNhV03",
        "outputId": "47534d79-7c5e-4c34-d3b2-25e9bba5ebfa"
      },
      "execution_count": null,
      "outputs": [
        {
          "output_type": "stream",
          "name": "stdout",
          "text": [
            "        MUNICIPIO           CULTIVO PERIODO  Area Sembrada (ha)  \\\n",
            "0         RAQUIRA             AGRAZ    2015               170.0   \n",
            "1        BUSBANZA           AHUYAMA   2018A                 0.5   \n",
            "2      BUENAVISTA          AGUACATE    2015                40.0   \n",
            "3           COPER          AGUACATE    2015                 4.0   \n",
            "4           COPER          AGUACATE    2015                20.0   \n",
            "...           ...               ...     ...                 ...   \n",
            "23075   Zetaquirá  Gulupa o cholupa    2021                14.0   \n",
            "23076   Zetaquirá              Lulo    2021                 8.0   \n",
            "23077   Zetaquirá            Tomate   2021A                 4.0   \n",
            "23078   Zetaquirá            Tomate   2021B                 4.0   \n",
            "23079   Zetaquirá            Frijol   2021B               350.0   \n",
            "\n",
            "       Area Cosechada (ha)  Produccion (t)  Rendimiento (t/ha)  \n",
            "0                    170.0          1360.0                 8.0  \n",
            "1                      0.4             2.0                 5.0  \n",
            "2                     25.0            25.0                 1.0  \n",
            "3                      2.0            24.0                12.0  \n",
            "4                     10.0            70.0                 7.0  \n",
            "...                    ...             ...                 ...  \n",
            "23075                 14.0           238.0                17.0  \n",
            "23076                  6.0           108.0                18.0  \n",
            "23077                  4.0           192.0                48.0  \n",
            "23078                  4.0           576.0               144.0  \n",
            "23079                335.0           503.0                 2.0  \n",
            "\n",
            "[22850 rows x 7 columns]\n"
          ]
        }
      ]
    },
    {
      "cell_type": "markdown",
      "source": [
        "# 4.Transformacion de datos"
      ],
      "metadata": {
        "id": "HBIvaLoNGZkU"
      }
    },
    {
      "cell_type": "code",
      "source": [],
      "metadata": {
        "id": "hzexPOvqGysE"
      },
      "execution_count": null,
      "outputs": []
    }
  ]
}